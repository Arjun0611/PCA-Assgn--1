{
 "cells": [
  {
   "cell_type": "code",
   "execution_count": 1,
   "id": "a17f81fd-5d14-456f-9931-57c96f937a97",
   "metadata": {},
   "outputs": [],
   "source": [
    "# Q1.\n",
    "\n",
    "# Curse of Dimensionality Reduction:\n",
    "\n",
    "# High-dimensional data suffers from increased sparsity and computational complexity.\n",
    "# Diminishing returns in terms of performance improvement with added dimensions.\n",
    "# Increased risk of overfitting due to the \"curse\" of having too many features.\n",
    "\n",
    "# Importance in Machine Learning:\n",
    "# Reduces computational cost and enhances model efficiency.\n",
    "# Mitigates overfitting by focusing on relevant features.\n",
    "# Improves model interpretability and generalization to new data."
   ]
  },
  {
   "cell_type": "code",
   "execution_count": 2,
   "id": "773bbcc1-ccb9-4126-80df-3f069e313d48",
   "metadata": {},
   "outputs": [],
   "source": [
    "# Q2.\n",
    "\n",
    "# Impact of Curse of Dimensionality:\n",
    "# Increases sparsity of data, requiring more instances for reliable learning.\n",
    "# Leads to higher computational complexity and resource demands.\n",
    "# Raises risk of overfitting due to increased model complexity with more features.\n",
    "# Diminishes algorithm performance and generalization as dimensionality grows."
   ]
  },
  {
   "cell_type": "code",
   "execution_count": 3,
   "id": "a83cc2d6-f22d-482c-9241-6f1da70d9dc2",
   "metadata": {},
   "outputs": [],
   "source": [
    "# Q3.\n",
    "# Consequences of Curse of Dimensionality:\n",
    "# Increased data sparsity: Limited samples in high-dimensional space.\n",
    "# Computational complexity: Higher resource requirements for processing.\n",
    "# Overfitting risk: Models prone to capturing noise and losing generalization.\n",
    "# Diminished model performance: Reduced accuracy and robustness in predictions."
   ]
  },
  {
   "cell_type": "code",
   "execution_count": 4,
   "id": "e0e5799e-3bfa-425b-9a24-623edd7ac5be",
   "metadata": {},
   "outputs": [],
   "source": [
    "# Q4.\n",
    "\n",
    "# Feature Selection:\n",
    "# Choosing a subset of relevant features from the original set.\n",
    "# Objective is to enhance model performance and interpretability.\n",
    "# Process:\n",
    "#1. Identify and retain informative features.\n",
    "#2. Eliminate redundant features.\n",
    "# Benefits:\n",
    "# Reduces dimensionality for more efficient modeling.\n",
    "# Mitigates overfitting and improves model generalization.\n",
    "# Enhances computational efficiency and interpretability."
   ]
  },
  {
   "cell_type": "code",
   "execution_count": 5,
   "id": "78452b33-a3a1-41d2-8c80-88696c02a0d6",
   "metadata": {},
   "outputs": [],
   "source": [
    "# Q5.\n",
    "\n",
    "# Limitations of Dimensionality Reduction are as follows:\n",
    "# Loss of Information: Reduction may discard valuable details from the data.\n",
    "# Algorithm Sensitivity: Performance can vary with different reduction techniques.\n",
    "# Computational Cost: Some methods may be computationally intensive for large datasets.\n",
    "# Interpretability Challenges: Reduced dimensions may make interpretations less intuitive.\n",
    "# Parameter Tuning: Selection of optimal parameters can be challenging.\n",
    "# Non-linear Relationships: Linear techniques may struggle with capturing non-linear relationships.\n",
    "# Curse of Dimensionality Risk: In some cases, dimensionality reduction may not yield significant benefits."
   ]
  },
  {
   "cell_type": "code",
   "execution_count": 6,
   "id": "783ce14d-40d2-405b-843b-717a3d2cdaf3",
   "metadata": {},
   "outputs": [],
   "source": [
    "# Q6.\n",
    "\n",
    "# Curse of Dimensionality and Overfitting/Underfitting:\n",
    "\n",
    "# Overfitting\n",
    "#1. Explanation: High-dimensional spaces provide more room for complex models to fit noise.\n",
    "#2. Impact: Increases risk of overfitting as models capture noise rather than underlying patterns.\n",
    "\n",
    "# Underfitting:\n",
    "# Explanation: Sparse data in high-dimensional space can lead to inadequate model learning.\n",
    "# Impact: Increases risk of underfitting as models struggle to capture true patterns with limited data."
   ]
  },
  {
   "cell_type": "code",
   "execution_count": 7,
   "id": "161a299d-0961-4f76-bbcc-06dbf28f7bc7",
   "metadata": {},
   "outputs": [],
   "source": [
    "# Q7.\n",
    "\n",
    "# Determining Optimal Number of Dimensions:\n",
    "# Scree Plot:\n",
    "# Method: Plot explained variance against the number of dimensions.\n",
    "# Selection: Identify the \"elbow\" point where explained variance plateus.\n",
    "# Cross-Validation:\n",
    "# Method: Use cross-validation to assess model performance with different dimensions.\n",
    "# Selection: Choose the dimensionality with the best trade-off between bias and variance.\n",
    "# Cumulative Variance:\n",
    "# Method: Evaluate cumulative explained variance.\n",
    "# Selection: Choose dimensions providing sufficient coverage\n",
    "# Domain Knowledge:\n",
    "# Method: Leverage subject matter expertise.\n",
    "# Selection: Consider the practical significance of features in the specific context."
   ]
  },
  {
   "cell_type": "code",
   "execution_count": null,
   "id": "32d0cb5a-395b-4d40-88db-d88df6ec645a",
   "metadata": {},
   "outputs": [],
   "source": []
  }
 ],
 "metadata": {
  "kernelspec": {
   "display_name": "Python 3 (ipykernel)",
   "language": "python",
   "name": "python3"
  },
  "language_info": {
   "codemirror_mode": {
    "name": "ipython",
    "version": 3
   },
   "file_extension": ".py",
   "mimetype": "text/x-python",
   "name": "python",
   "nbconvert_exporter": "python",
   "pygments_lexer": "ipython3",
   "version": "3.10.8"
  }
 },
 "nbformat": 4,
 "nbformat_minor": 5
}
